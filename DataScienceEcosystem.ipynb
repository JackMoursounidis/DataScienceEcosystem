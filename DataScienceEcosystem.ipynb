{
 "cells": [
  {
   "cell_type": "markdown",
   "id": "f6d01fe1-31fd-4b2c-9084-7a77eb02c554",
   "metadata": {},
   "source": [
    "# Data Science Tools and Ecosystem"
   ]
  },
  {
   "cell_type": "markdown",
   "id": "dabf536e-f150-459f-9022-8a51b26c560c",
   "metadata": {},
   "source": [
    "In this notebook, Data Science Tools and Ecosystems are summarised."
   ]
  },
  {
   "cell_type": "markdown",
   "id": "1bc67b15-41b6-4499-90c8-6fa6f7bbd0a4",
   "metadata": {},
   "source": [
    "**Objectives:**\n",
    "\n",
    "    -Popular languages that Data Scientists use\n",
    "    -Commonly used libraries in Data Science\n",
    "    -Evaluation of arithmetic expression in Python\n",
    "    -Examples of Data Science Tools\n",
    "    -Examples of Markdown cell used in Jupyter notebooks"
   ]
  },
  {
   "cell_type": "markdown",
   "id": "5add43fa-3e23-4301-981d-a62796d57545",
   "metadata": {},
   "source": [
    "Some of the popular languages that Data Scientists use are:\n",
    "   \n",
    "    1. Python\n",
    "    2. R \n",
    "    3. SQL"
   ]
  },
  {
   "cell_type": "markdown",
   "id": "cff837e0-25e2-4a52-8113-789b7d457264",
   "metadata": {
    "tags": []
   },
   "source": [
    "Some of the commonly used libraries used by Data Scientists include:\n",
    "\n",
    "    1. TensorFlow\n",
    "    2. NumPy\n",
    "    3. Pandas\n",
    "        "
   ]
  },
  {
   "cell_type": "markdown",
   "id": "22cb06d3-c30b-4c5c-8ba4-bc72295b1a3b",
   "metadata": {
    "jp-MarkdownHeadingCollapsed": true,
    "tags": []
   },
   "source": [
    "\n",
    "| Data Science Tools | \n",
    "| -------------| \n",
    "| Jupyter Notebook | \n",
    "| VS Code | \n",
    "| Spyder | "
   ]
  },
  {
   "cell_type": "markdown",
   "id": "9f255735-f669-4dea-bf09-0ac83b14f80a",
   "metadata": {},
   "source": [
    "### Below are a few examples of evaluating arithmetic expressions in Python"
   ]
  },
  {
   "cell_type": "code",
   "execution_count": 5,
   "id": "97c115ea-ba8e-4ed1-9c57-47d4fcdf609b",
   "metadata": {
    "tags": []
   },
   "outputs": [
    {
     "data": {
      "text/plain": [
       "17"
      ]
     },
     "execution_count": 5,
     "metadata": {},
     "output_type": "execute_result"
    }
   ],
   "source": [
    "#This a simple arithmetic expression to mutiply then add integers\n",
    "\n",
    "(3*4)+5"
   ]
  },
  {
   "cell_type": "code",
   "execution_count": 12,
   "id": "2a1e2c01-f236-44db-8f0c-143220941c83",
   "metadata": {
    "tags": []
   },
   "outputs": [],
   "source": [
    "#This will convert 200 minutes to hours by diving by 60\n",
    "\n",
    "def f(x):\n",
    "    return print(round(x/60,2), 'Hours')"
   ]
  },
  {
   "cell_type": "code",
   "execution_count": 13,
   "id": "4d2ef7ae-28c6-4786-8e09-feda7ad21b8f",
   "metadata": {
    "tags": []
   },
   "outputs": [
    {
     "name": "stdout",
     "output_type": "stream",
     "text": [
      "3.33 Hours\n"
     ]
    }
   ],
   "source": [
    "f(200)"
   ]
  },
  {
   "cell_type": "markdown",
   "id": "7d707df5-67b2-4b0f-a7a8-fbe55eb4b99e",
   "metadata": {},
   "source": [
    "## Author\n",
    "Jack Moursounidis"
   ]
  },
  {
   "cell_type": "code",
   "execution_count": null,
   "id": "ace63e9d-7cec-4445-9945-0fa232c7beac",
   "metadata": {},
   "outputs": [],
   "source": []
  }
 ],
 "metadata": {
  "kernelspec": {
   "display_name": "Python 3",
   "language": "python",
   "name": "python3"
  },
  "language_info": {
   "codemirror_mode": {
    "name": "ipython",
    "version": 3
   },
   "file_extension": ".py",
   "mimetype": "text/x-python",
   "name": "python",
   "nbconvert_exporter": "python",
   "pygments_lexer": "ipython3",
   "version": "3.11.3"
  }
 },
 "nbformat": 4,
 "nbformat_minor": 5
}
